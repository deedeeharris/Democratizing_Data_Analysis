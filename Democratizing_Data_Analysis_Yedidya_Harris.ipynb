{
  "nbformat": 4,
  "nbformat_minor": 0,
  "metadata": {
    "colab": {
      "provenance": [],
      "toc_visible": true,
      "authorship_tag": "ABX9TyOUnS8ATkhLiWHIsVtN+s9V"
    },
    "kernelspec": {
      "name": "python3",
      "display_name": "Python 3"
    },
    "language_info": {
      "name": "python"
    }
  },
  "cells": [
    {
      "cell_type": "markdown",
      "source": [
        "# [Democratizing Data Analysis](https://tinyurl.com/data-NOW)\n",
        "\n",
        "**Yedidya Harris**\n",
        "\n",
        "<div align=\"left\">\n",
        "  <a href=\"https://github.com/deedeeharris/\" style=\"text-decoration:none;\">\n",
        "    <img src=\"https://github.com/ultralytics/assets/raw/main/social/logo-social-github.png\" width=\"2%\" alt=\"\" /></a>\n",
        "  <img src=\"https://github.com/ultralytics/assets/raw/main/social/logo-transparent.png\" width=\"2%\" alt=\"\" />\n",
        "  <a href=\"https://www.linkedin.com/in/yedidya-harris\" style=\"text-decoration:none;\">\n",
        "    <img src=\"https://github.com/ultralytics/assets/raw/main/social/logo-social-linkedin.png\" width=\"2%\" alt=\"\" /></a></a>\n",
        "<br></br>\n",
        "\n",
        "Analyze your data **without knowing a single line of code!**\n",
        "\n",
        "Introducing \"Democratizing Data Analysis\" - a user-friendly tool that generates Python code for you. Upload your data, copy the prompt, and paste it into ChatGPT. Explore your data effortlessly and make data-driven decisions with ease. Try \"Democratizing Data Analysis\" now!\n",
        "\n",
        "**Instructions:**\n",
        "\n",
        "1. In order to start, press the \"Play\" button in the next cell.\n",
        "2. Upload a CSV or Excel file using the \"Choose Files\" button.\n",
        "3. After uploading the file, a prompt will be generated with the necessary information to assist you with data analysis and visualization.\n",
        "4. Copy the entire prompt (using the \"Copy\" button).\n",
        "5. Open the ChatGPT interface here: https://chat.openai.com/\n",
        "6. Paste the text that was copied into the ChatGPT window to receive Python code for your data analysis task.\n",
        "7. Copy the code that ChatGPT generated into a new code cell here.\n",
        "8. Press the \"Play\" button, and enjoy the new graph.\n",
        "\n",
        "* To generate more graphs and insights, ask questions in the ChatGPT interface, and repeat step 7 and 8.\n",
        "\n",
        "* For every new generated code, add a new code cell using the \"+Code\" button at the top of this screen:\n",
        "\n",
        "  ![image.png](data:image/png;base64,iVBORw0KGgoAAAANSUhEUgAAAJAAAAAqCAYAAABcF9KrAAAFEUlEQVR4nO3cb2gTZwDH8a+rBoSMQsSR0i0irVDSvbAULAPrwBNZxuAcLFVshTUDG8eSwvoHtS/mi9V//QMmg7aCUVgz0MJYxiC+8GQsg1GhVHANlArSjOLBaCDsQLwSuhcGTbRt2j6mSfX5QKE8T+6553n48Tx3lyNbFhcXF5Gkddo6MzNT7D5Im9gWuQJJIrbMv1/91gbI9o9cfUW9U+wOSJubDJAkRAZIEiIDJAnZulThm3hxmfxgT7G78EaSK5AkRAZIEiIDJAmRAZKEbM4ATQRQfBH0YvdDWvou7HUzpiME+kLEHhmYFiuO/R562lWqrRtx9hIxEUDpjixbrV7W8NeLtA39mp+6dTaxXqtegVKpFJcuXSKVSq3pBOb9AK1fj8LxIGNRjehYkJayUXw9EfT0mvtbEtY1F/V+NE179hf248SJP6w9L1t3eIps1QFaWFhgenqahYWFNTSfIPJDBOuXA5w96MBqAYvVgdLup/HvYW7dz3wsnUAb9KG6FBSXim8wlhsuI06oXcWlKLhazxN5kMw9TVonln38jUmMAoZzfXOxCsuNI60z5lNwX41nPmgQ63XhOqPxxxUls7JF6FQUAhOvt0v5FPYaKDXD5CM7h/Y7csu3N+AZOEej3QQMYhfbGE59SjCioUWCHJg9T+vFGAYASbTeDqIVfq5HNSIDRzAmx7MaMxgfbCNQ1sL13zS08AXqJjo58+tmu0JaYRxldtzferDeHCKiA/FRAn9W421XONCuoV1WAZX+IqxkhQ3QE4P/sGHd/nKFBfveBuoqLaBr3Lpbi6fdhcMCWBy4v/NTe/cWmg7oMX65V4vnpILdAhabk+Zm5UVTusbo7Qb8JxuwlQE2Jy1fKMR/Hyf58mlLWb5x7G6m66jO8LUwoaEx7F/1oNqL3GfyXER3dXUxPz+fU9bd3f38/x07dtDX1yfWg7lZ4pV1dNmyymy7qC6PMzsHMEu8vJpT2fVlltzj0Tj3mZbbrrMWU6xnOQo+F6sYh/PEWVzNnYQtboKfl0B6yBMgr9f7fJ9PpVKMjIzQ1tZGeXk5ANu2bVu59e1W3iWJ8eTVKtN4dke29I3YU8wljllWuZvgz16cazhkrYTnYjXyjSNtPJtLi8lTE3hlZd94K25hVVVV1NTUUFNTQ1VV1bJlyyrfQ91unTv3ErnlT2L0q25CD4DKXTjnJpnK3m+SOgnTya7KTH3qIbPZ9emstWVnBY7UOFPZpyjABbTwXOSTdxwG40P9jH/SiX93lPM/xikFBX6Q6MB1SsW40UvgrwRmGkwjgXYlQOxDL017AbtC08EpQlc1dBMwE0T6hpk62IRiB+yNHNn3ot5MTjJ8LWuZdyi07NMJDYR5mALSSeI/+Wi9Gn+tW1jB5RtHfJT+u7X4T7hQv/FgvznE2FzmWHsF1SRI/GtibvCgC/4k2lrv5/qFA+jXfKiHFVzHOohaPAR7VexlAFYaT4/gSY/Spiooqo87O/2MnG7MbG82lJ4BXI8DtLoU1I4oFR81ZJ3BhvL9CP737tBxTEE53Exf4hA9x51YlupQyVphHOkE4cExrMe9KDag0s2pozqhy5lnaZWNNH38mOFjLjpub+ytw5Iv1b8t7wO9iePcaJvzuzCpZMgASUJkgCQhSz4Hku8PS6slVyBJiAyQJEQGSBIiAyQJkT/vIgmRK5AkRAZIEiIDJAmRv5EoCZEX0ZIQuYVJQmSAJCEyQJKQ/wGt+h2apC7B/QAAAABJRU5ErkJggg==)\n",
        "\n",
        "\n",
        "**Congratulations! You can now visualize and analyze data without knowing a line of code.**\n",
        "\n",
        "\n",
        "\n",
        "**Disclaimer:**\n",
        "Please be advised that when using \"Democratizing Data Analysis\" with Google Colab and ChatGPT, you assume full responsibility for the data files you choose to upload and analyze. To ensure ethical and secure data practices, we urge you to exercise caution throughout the process. Ensure that the uploaded data does not contain sensitive or personally identifiable information (PII) without proper authorization. Additionally, verify the legality and accuracy of the data to avoid any potential copyright violations or inaccuracies in your analysis. Always keep a backup of your original data files and review the Python code generated by the tool before execution to align it with your analysis goals. It's important to note that the tool may have limitations, and the results may vary based on the complexity of the data. We cannot guarantee specific outcomes, and you agree to abide by the terms of service and policies of the platforms involved. By proceeding with \"Democratizing Data Analysis,\" you acknowledge that the tool's creators and the platforms used cannot be held liable for any issues that may arise from your use of this service.\n"
      ],
      "metadata": {
        "id": "IJY6nXY5Mq-x"
      }
    },
    {
      "cell_type": "code",
      "source": [
        "# @title START HERE: Run me. Upload your data file. Press the \"Copy\" button. { display-mode: \"form\" }\n",
        "!pip install python-bidi\n",
        "!wget https://raw.githubusercontent.com/deedeeharris/Democratizing_Data_Analysis/main/dda.py\n",
        "from dda import upload_csv_or_excel\n",
        "from google.colab import files\n",
        "from IPython.display import HTML, Javascript, clear_output  # Import the clear_output function\n",
        "import pandas as pd\n",
        "import os\n",
        "import numpy as np\n",
        "import matplotlib.pyplot as plt\n",
        "import seaborn as sns\n",
        "import plotly.express as px\n",
        "import plotly.graph_objects as go\n",
        "from scipy import stats\n",
        "import plotly.express as px\n",
        "import geopandas as gpd\n",
        "import statsmodels.api as sm\n",
        "from sklearn.model_selection import train_test_split\n",
        "from sklearn.preprocessing import StandardScaler\n",
        "df = upload_csv_or_excel()"
      ],
      "metadata": {
        "id": "Vz7FeSs6fdsi"
      },
      "execution_count": null,
      "outputs": []
    },
    {
      "cell_type": "markdown",
      "source": [
        "## Paste the ChatGPT Code here"
      ],
      "metadata": {
        "id": "qWwqKawkMYIG"
      }
    },
    {
      "cell_type": "code",
      "source": [],
      "metadata": {
        "id": "_aFNazv0iXkG"
      },
      "execution_count": null,
      "outputs": []
    },
    {
      "cell_type": "code",
      "source": [],
      "metadata": {
        "id": "JhjvVJqlialg"
      },
      "execution_count": null,
      "outputs": []
    }
  ]
}